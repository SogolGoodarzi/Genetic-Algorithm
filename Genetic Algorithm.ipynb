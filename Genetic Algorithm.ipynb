{
  "nbformat": 4,
  "nbformat_minor": 0,
  "metadata": {
    "colab": {
      "provenance": []
    },
    "kernelspec": {
      "name": "python3",
      "display_name": "Python 3"
    },
    "language_info": {
      "name": "python"
    }
  },
  "cells": [
    {
      "cell_type": "markdown",
      "source": [
        "# **Genetic Algorithm**"
      ],
      "metadata": {
        "id": "s6k5W-XgPB7M"
      }
    },
    {
      "cell_type": "code",
      "source": [
        "import random\n",
        "from random import sample\n",
        "itr = 500\n",
        "N = 1000\n",
        "bits = 8\n",
        "n_bits = 2**bits-1\n",
        "x1 = np.linspace(-15, 15, n_bits)\n",
        "x2 = np.linspace(-15, 15, n_bits)\n",
        "\n",
        "## Main loop:\n",
        "for i in range(itr):\n",
        "  [population_x1,population_x2] = Selection(N,n_bits,x1,x2)\n",
        "  # print(len(population_x1))\n",
        "  [population_x1,population_x2] = Crossover(N,population_x1,population_x2)\n",
        "  [population_x1,population_x2] = Mutation(N,population_x1,population_x2)\n",
        "\n",
        "[population_x1,population_x2] = BinarytoDecimal(population_x1,population_x2)\n",
        "\n",
        "f_values = []\n",
        "for i in range(len(population_x1)):\n",
        "  f_values.append(f(population_x1[i],population_x2[i]))\n",
        "\n",
        "indx = f_values.index(min(f_values))\n",
        "x1_min = population_x1[indx]\n",
        "x2_min = population_x2[indx]\n",
        "f_min = min(f_values)\n",
        "print(\"The minimum point of the cost function is:\\n x1 = {}\\n x2 = {}\".format(x1_min , x2_min))\n",
        "print(\"The value of cost function in minimum point is:\\n {}\".format(f_min))"
      ],
      "metadata": {
        "id": "2U-xrJbAPF2Y",
        "colab": {
          "base_uri": "https://localhost:8080/"
        },
        "outputId": "3d5a8b20-d612-4bc9-e497-c344afea050b"
      },
      "execution_count": null,
      "outputs": [
        {
          "output_type": "stream",
          "name": "stdout",
          "text": [
            "The minimum point of the cost function is:\n",
            " x1 = 0\n",
            " x2 = 4\n",
            "The value of cost function in minimum point is:\n",
            " -36.0\n"
          ]
        }
      ]
    },
    {
      "cell_type": "markdown",
      "source": [
        "**Functions:**"
      ],
      "metadata": {
        "id": "h_SF-nJLsTIo"
      }
    },
    {
      "cell_type": "code",
      "source": [
        "def f(x1,x2):\n",
        "  return(2*x1**2 + 2*x2**2 - 17*x2*np.cos(0.2*np.pi*x1) - x1*x2)\n",
        "\n",
        "def Selection(N,n_bits,x1,x2):\n",
        "  selection_number = 10\n",
        "  index_list = list(range(n_bits))\n",
        "  ## select N random x1 and x2:\n",
        "  x1_s = x1[random.choices(index_list, k = N)]\n",
        "  x2_s = x2[random.choices(index_list, k = N)]\n",
        "  F_values = []\n",
        "  for i in range(N):\n",
        "    F_values.append(f(x1_s[i],x2_s[i]))\n",
        "\n",
        "  sorted_f = sorted(F_values)\n",
        "\n",
        "  ## Population after selection:\n",
        "  population_x1 = []\n",
        "  population_x2 = []\n",
        "  for i in range(selection_number):\n",
        "    ind = F_values.index(sorted_f[i])\n",
        "    population_x1.append(x1_s[ind])\n",
        "    population_x2.append(x2_s[ind])\n",
        "\n",
        "  ## Creating the remained population:\n",
        "  for i in range(N-selection_number):\n",
        "    [f1,f2] = sample(sorted_f[selection_number:],2)\n",
        "    if (f1<f2) | (f1==f2):\n",
        "      ind = F_values.index(f1)\n",
        "      population_x1.append(x1_s[ind])\n",
        "      population_x2.append(x2_s[ind])\n",
        "    elif f2<f1:\n",
        "      ind = F_values.index(f2)\n",
        "      population_x1.append(x1_s[ind])\n",
        "      population_x2.append(x2_s[ind])\n",
        "\n",
        "  [population_x1,population_x2] = DecimaltoBinary(population_x1,population_x2)\n",
        "\n",
        "  return [population_x1,population_x2]\n",
        "\n",
        "def DecimaltoBinary(In1,In2):\n",
        "  for i in range(len(In1)):\n",
        "    In1[i] = \"{0:08b}\".format(int(In1[i]))\n",
        "    In2[i] = \"{0:08b}\".format(int(In2[i]))\n",
        "  return [In1,In2]\n",
        "\n",
        "def BinarytoDecimal(In1,In2):\n",
        "  for i in range(len(In1)):\n",
        "    In1[i] = int(In1[i],2)\n",
        "    In2[i] = int(In2[i],2)\n",
        "  return [In1,In2]\n",
        "\n",
        "def Crossover(N,population_x1,population_x2):\n",
        "  num_pairs = int(N/2)\n",
        "  rand_indx = sample(range(0,N),num_pairs)\n",
        "\n",
        "  for i in range(num_pairs):\n",
        "    x1 = population_x1[rand_indx[i]]\n",
        "    x2 = population_x2[rand_indx[i]]\n",
        "    r1 = random.randint(1,6)\n",
        "    r2 = random.randint(1,6)\n",
        "\n",
        "    [x11,x21] = Crossing(r1,x1,x2)\n",
        "    [x12,x22] = Crossing(r2,x1,x2)\n",
        "    population_x1[i] = x11\n",
        "    population_x2[i] = x22\n",
        "\n",
        "  return [population_x1,population_x2]\n",
        "\n",
        "def Crossing(r,x1,x2):\n",
        "  x1 = list(x1)\n",
        "  x2 = list(x2)\n",
        "  dummy = x1[0:r]\n",
        "  x1[0:r] = x2[0:r]\n",
        "  x2[0:r] = dummy\n",
        "  x1 = ''.join(x1)\n",
        "  x2 = ''.join(x2)\n",
        "  return [x1,x2]\n",
        "\n",
        "def Mutation(N,population_x1,population_x2):\n",
        "  prob = 0.2\n",
        "  mut_num = random.randint(0,N)\n",
        "\n",
        "  ## Doing mutation in mut_num of the population:\n",
        "  for i in range(mut_num):\n",
        "    r = random.random()\n",
        "    if r<prob:\n",
        "      population_x1[i] = ''.join('1' if x == '0' else '0' for x in population_x1[i])\n",
        "      population_x2[i] = ''.join('1' if x == '0' else '0' for x in population_x2[i])\n",
        "\n",
        "  return [population_x1,population_x2]"
      ],
      "metadata": {
        "id": "qpWqw5gOsWEj"
      },
      "execution_count": null,
      "outputs": []
    }
  ]
}